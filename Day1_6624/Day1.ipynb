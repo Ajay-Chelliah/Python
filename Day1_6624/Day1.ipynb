{
 "cells": [
  {
   "cell_type": "markdown",
   "metadata": {},
   "source": [
    "AREA CALCULATOR : "
   ]
  },
  {
   "cell_type": "code",
   "execution_count": 14,
   "metadata": {},
   "outputs": [
    {
     "name": "stdout",
     "output_type": "stream",
     "text": [
      "area =  50\n",
      "area =  78.5\n"
     ]
    }
   ],
   "source": [
    "def calc_area(shape,dimension):\n",
    "    if(shape == 'rectangle'):\n",
    "        (l,b) = dimension\n",
    "        print(\"area = \" , l*b)\n",
    "    if(shape == 'circle'):\n",
    "        (r) = dimension\n",
    "        print(\"area = \" , 3.14*r*r)    \n",
    "(calc_area('rectangle',(5,10)))\n",
    "(calc_area('circle',(5)))"
   ]
  },
  {
   "cell_type": "markdown",
   "metadata": {},
   "source": [
    "REVERSING A STRING OF WORDS :"
   ]
  },
  {
   "cell_type": "code",
   "execution_count": 21,
   "metadata": {},
   "outputs": [
    {
     "name": "stdout",
     "output_type": "stream",
     "text": [
      "ajay am i hi\n"
     ]
    }
   ],
   "source": [
    "def reverse(str):\n",
    "    list1 = str.split(\" \")\n",
    "    list1 = list1[::-1]\n",
    "    print(' '.join(list1))\n",
    "str = input(\"Enter your string\")\n",
    "reverse(str)"
   ]
  },
  {
   "cell_type": "markdown",
   "metadata": {},
   "source": [
    "FINDING MIN MAX AND AVERAGE FOR A LIST OF NUMBERS"
   ]
  },
  {
   "cell_type": "code",
   "execution_count": 29,
   "metadata": {},
   "outputs": [
    {
     "name": "stdout",
     "output_type": "stream",
     "text": [
      "{'minimum': 1, 'maximum': 3, 'average': 2.0}\n"
     ]
    }
   ],
   "source": [
    "def analyze_list(numbers):\n",
    "    mini = min(numbers)\n",
    "    maxi = max(numbers)\n",
    "    sum1 = sum(numbers)\n",
    "    leng = len(numbers)\n",
    "    avg = sum1/leng\n",
    "    dict1 = {}\n",
    "    dict1[\"minimum\"] = mini\n",
    "    dict1[\"maximum\"] = maxi\n",
    "    dict1[\"average\"] = avg\n",
    "    print(dict1)\n",
    "analyze_list([1,2,3])"
   ]
  },
  {
   "cell_type": "markdown",
   "metadata": {},
   "source": [
    "FILTERING THE WORDS WITH LENGTH SMALLER THAN THE MAX_LENGTH"
   ]
  },
  {
   "cell_type": "code",
   "execution_count": 37,
   "metadata": {},
   "outputs": [
    {
     "name": "stdout",
     "output_type": "stream",
     "text": [
      "['ajay']\n"
     ]
    }
   ],
   "source": [
    "def filter_short_names(names, max_length):\n",
    "    s_names = filter(lambda x: len(x) < max_length, names)\n",
    "    print(list(s_names))\n",
    "names = [\"ajay\", \"rahul\" , \"dhiya\"]\n",
    "filter_short_names(names,5)"
   ]
  },
  {
   "cell_type": "markdown",
   "metadata": {},
   "source": [
    "FINDING THE WORD COUNT , CHARACTER COUNT AND WORD WITH MOST FREQUENCY IN A STRING : "
   ]
  },
  {
   "cell_type": "code",
   "execution_count": 40,
   "metadata": {},
   "outputs": [
    {
     "name": "stdout",
     "output_type": "stream",
     "text": [
      "{'word_count': 4, 'char_count': 15, 'most_frequent_word': 'i'}\n"
     ]
    }
   ],
   "source": [
    "def analyze_text(text):\n",
    "    text = text.lower()\n",
    "    words = text.split()\n",
    "    word_count = len(words)\n",
    "    char_count = len(text.replace(\" \", \"\"))\n",
    "    word_freq = {}\n",
    "    for word in words:\n",
    "        if word in word_freq:\n",
    "            word_freq[word] += 1\n",
    "        else:\n",
    "            word_freq[word] = 1\n",
    "    most_frequent_word = max(word_freq, key=word_freq.get)\n",
    "    return {\n",
    "        \"word_count\": word_count,\n",
    "        \"char_count\": char_count,\n",
    "        \"most_frequent_word\": most_frequent_word\n",
    "    }\n",
    "text = \"i am ajay chelliah\"\n",
    "result = analyze_text(text)\n",
    "print(result)\n"
   ]
  }
 ],
 "metadata": {
  "kernelspec": {
   "display_name": "Python 3",
   "language": "python",
   "name": "python3"
  },
  "language_info": {
   "codemirror_mode": {
    "name": "ipython",
    "version": 3
   },
   "file_extension": ".py",
   "mimetype": "text/x-python",
   "name": "python",
   "nbconvert_exporter": "python",
   "pygments_lexer": "ipython3",
   "version": "3.12.1"
  }
 },
 "nbformat": 4,
 "nbformat_minor": 2
}
