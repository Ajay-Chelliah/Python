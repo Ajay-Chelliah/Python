{
 "cells": [
  {
   "cell_type": "code",
   "execution_count": 1,
   "metadata": {},
   "outputs": [
    {
     "name": "stdout",
     "output_type": "stream",
     "text": [
      "Matrix A: [[0.77703174 0.10142516 0.79450269 0.83781863]\n",
      " [0.04789858 0.05946031 0.22909659 0.50170468]\n",
      " [0.85408858 0.29208838 0.9914545  0.12558415]]\n",
      "Matrix B: [[0.86931509 0.39697649 0.39782854 0.12351527 0.92329161]\n",
      " [0.00196935 0.46296455 0.87401834 0.19078165 0.29038043]\n",
      " [0.61443213 0.41442141 0.97902978 0.74369532 0.16855859]\n",
      " [0.91356067 0.60823864 0.7948245  0.4409468  0.01697682]]\n",
      "Matrix C (A * B): [[1.92925129 1.19427218 1.84153342 1.07562673 0.89502252]\n",
      " [0.64085802 0.44664133 0.69408438 0.40886328 0.10862401]\n",
      " [1.46695755 0.96154476 1.66555226 0.95393409 1.04263976]]\n"
     ]
    }
   ],
   "source": [
    "import numpy as np\n",
    "\n",
    "A = np.random.rand(3, 4)\n",
    "B = np.random.rand(4, 5)\n",
    "\n",
    "C = np.dot(A, B)\n",
    "\n",
    "print(\"Matrix A:\", A)\n",
    "print(\"Matrix B:\", B)\n",
    "print(\"Matrix C (A * B):\", C)\n"
   ]
  },
  {
   "cell_type": "code",
   "execution_count": 11,
   "metadata": {},
   "outputs": [],
   "source": [
    "a = np.ones(5)\n",
    "b = np.ones((3, 4))\n",
    "a1 = np.empty(5)\n",
    "a2 = np.arange(10)\n",
    "a3 = np.linspace(0, 1, 5)\n",
    "a4 = np.eye(2)"
   ]
  },
  {
   "cell_type": "code",
   "execution_count": 14,
   "metadata": {},
   "outputs": [
    {
     "name": "stdout",
     "output_type": "stream",
     "text": [
      "[0 2] [0 2]\n",
      "[1 9]\n",
      "[4 5]\n"
     ]
    }
   ],
   "source": [
    "b = np.array([[1, 2, 3], [4, 5, 6], [7, 8, 9]])\n",
    "rows = np.array([0, 2])\n",
    "cols = np.array([0, 2])\n",
    "print(rows,cols)\n",
    "print(b[rows, cols])\n",
    "\n",
    "a = np.array([1, 2, 3, 4, 5])\n",
    "print(a[a > 3])"
   ]
  },
  {
   "cell_type": "code",
   "execution_count": 15,
   "metadata": {},
   "outputs": [
    {
     "name": "stdout",
     "output_type": "stream",
     "text": [
      "[1 2 3 4 5]\n",
      "[[1 2]\n",
      " [3 4]\n",
      " [5 6]]\n"
     ]
    }
   ],
   "source": [
    "a = np.array([1, 2, 3])\n",
    "b = np.append(a, [4, 5])\n",
    "print(b)  \n",
    "\n",
    "c = np.array([[1, 2], [3, 4]])\n",
    "d = np.append(c, [[5, 6]], axis=0)\n",
    "print(d)"
   ]
  },
  {
   "cell_type": "code",
   "execution_count": 16,
   "metadata": {},
   "outputs": [
    {
     "name": "stdout",
     "output_type": "stream",
     "text": [
      "[ 1  2 10 20  3  4  5]\n",
      "[[ 1 10  2]\n",
      " [ 3 20  4]]\n"
     ]
    }
   ],
   "source": [
    "a = np.array([1, 2, 3, 4, 5])\n",
    "b = np.insert(a, 2, [10, 20])\n",
    "print(b) \n",
    "\n",
    "c = np.array([[1, 2], [3, 4]])\n",
    "d = np.insert(c, 1, [10, 20], axis=1)\n",
    "print(d)"
   ]
  },
  {
   "cell_type": "code",
   "execution_count": 17,
   "metadata": {},
   "outputs": [
    {
     "name": "stdout",
     "output_type": "stream",
     "text": [
      "[2 4 5]\n",
      "[[1 3]\n",
      " [4 6]]\n"
     ]
    }
   ],
   "source": [
    "a = np.array([1, 2, 3, 4, 5])\n",
    "b = np.delete(a, [0, 2])\n",
    "print(b) \n",
    "\n",
    "c = np.array([[1, 2, 3], [4, 5, 6]])\n",
    "d = np.delete(c, 1, axis=1)\n",
    "print(d)"
   ]
  },
  {
   "cell_type": "code",
   "execution_count": 2,
   "metadata": {},
   "outputs": [
    {
     "name": "stdout",
     "output_type": "stream",
     "text": [
      "Matrix A:\n",
      " [[0.79408167 0.05790818 0.80864383 0.29775125]\n",
      " [0.88520165 0.50717017 0.61467713 0.0848662 ]\n",
      " [0.57548203 0.08782642 0.71249099 0.76166201]]\n",
      "Transpose of A:\n",
      " [[0.79408167 0.88520165 0.57548203]\n",
      " [0.05790818 0.50717017 0.08782642]\n",
      " [0.80864383 0.61467713 0.71249099]\n",
      " [0.29775125 0.0848662  0.76166201]]\n"
     ]
    }
   ],
   "source": [
    "import numpy as np\n",
    "A = np.random.rand(3, 4)\n",
    "A_T = np.transpose(A)\n",
    "print(\"Matrix A:\\n\", A)\n",
    "print(\"Transpose of A:\\n\", A_T)\n"
   ]
  },
  {
   "cell_type": "code",
   "execution_count": 3,
   "metadata": {},
   "outputs": [
    {
     "name": "stdout",
     "output_type": "stream",
     "text": [
      "Data:\n",
      " [0.99345893 0.48182158 0.54605459 0.73266119 0.11479776 0.31745752\n",
      " 0.29731732 0.14310866 0.79055205 0.47588436 0.23351358 0.87053251\n",
      " 0.20224505 0.38346669 0.58934411 0.5774407  0.20677973 0.40734454\n",
      " 0.77497255 0.67847822 0.20804699 0.74852494 0.284002   0.00942546\n",
      " 0.03337736 0.79693908 0.6897511  0.50132948 0.76921499 0.60340551\n",
      " 0.61373052 0.6251709  0.24470917 0.85558428 0.56268421 0.86782437\n",
      " 0.73490752 0.64931328 0.37338554 0.87835206 0.00353982 0.35684821\n",
      " 0.51338273 0.26759893 0.26842123 0.93083299 0.57674377 0.82150192\n",
      " 0.77781932 0.54731125 0.49422652 0.8517693  0.26385478 0.03591569\n",
      " 0.76163917 0.08455157 0.94127729 0.87351898 0.23590045 0.58310199\n",
      " 0.05000015 0.94593025 0.95721139 0.07096463 0.52762805 0.3379982\n",
      " 0.6502965  0.69684844 0.66650954 0.72116926 0.21709532 0.79553672\n",
      " 0.30412303 0.19834281 0.57970465 0.21536146 0.61211365 0.63012739\n",
      " 0.26652048 0.43724903 0.855142   0.47495956 0.20150591 0.41716431\n",
      " 0.12747589 0.96688843 0.13521461 0.57264912 0.16873659 0.03538187\n",
      " 0.01779061 0.58379175 0.7278735  0.49015134 0.26340489 0.22466162\n",
      " 0.28410111 0.65227233 0.59162156 0.86118704]\n",
      "Mean: 0.49589371268479704\n",
      "Median: 0.5368413214154308\n",
      "Standard Deviation: 0.27601638751179086\n"
     ]
    }
   ],
   "source": [
    "import numpy as np\n",
    "data = np.random.rand(100)\n",
    "mean = np.mean(data)\n",
    "median = np.median(data)\n",
    "std_dev = np.std(data)\n",
    "print(\"Data:\\n\", data)\n",
    "print(\"Mean:\", mean)\n",
    "print(\"Median:\", median)\n",
    "print(\"Standard Deviation:\", std_dev)\n"
   ]
  },
  {
   "cell_type": "code",
   "execution_count": 4,
   "metadata": {},
   "outputs": [
    {
     "name": "stdout",
     "output_type": "stream",
     "text": [
      "Original array:\n",
      " [ 0  1  2  3  4  5  6  7  8  9 10 11 12 13 14 15]\n",
      "Reshaped array (4x4):\n",
      " [[ 0  1  2  3]\n",
      " [ 4  5  6  7]\n",
      " [ 8  9 10 11]\n",
      " [12 13 14 15]]\n"
     ]
    }
   ],
   "source": [
    "import numpy as np\n",
    "array = np.arange(16)\n",
    "reshaped_array = np.reshape(array, (4, 4))\n",
    "\n",
    "print(\"Original array:\\n\", array)\n",
    "print(\"Reshaped array (4x4):\\n\", reshaped_array)\n"
   ]
  },
  {
   "cell_type": "code",
   "execution_count": 5,
   "metadata": {},
   "outputs": [
    {
     "name": "stdout",
     "output_type": "stream",
     "text": [
      "Array 1:\n",
      " [[0.13035154 0.67149598 0.4773816  0.93070229]\n",
      " [0.26755455 0.7799914  0.6337309  0.55250673]\n",
      " [0.56566262 0.8011524  0.68598293 0.15191544]]\n",
      "Array 2:\n",
      " [[0.50967335 0.79790335 0.15934482 0.44669611]\n",
      " [0.50341237 0.05026797 0.93144689 0.68221763]\n",
      " [0.59390482 0.95547577 0.40867396 0.44215371]]\n",
      "Concatenated array:\n",
      " [[0.13035154 0.67149598 0.4773816  0.93070229]\n",
      " [0.26755455 0.7799914  0.6337309  0.55250673]\n",
      " [0.56566262 0.8011524  0.68598293 0.15191544]\n",
      " [0.50967335 0.79790335 0.15934482 0.44669611]\n",
      " [0.50341237 0.05026797 0.93144689 0.68221763]\n",
      " [0.59390482 0.95547577 0.40867396 0.44215371]]\n"
     ]
    }
   ],
   "source": [
    "import numpy as np\n",
    "array1 = np.random.rand(3, 4)\n",
    "array2 = np.random.rand(3, 4)\n",
    "concatenated = np.concatenate((array1, array2), axis=0)\n",
    "\n",
    "print(\"Array 1:\\n\", array1)\n",
    "print(\"Array 2:\\n\", array2)\n",
    "print(\"Concatenated array:\\n\", concatenated)\n"
   ]
  },
  {
   "cell_type": "code",
   "execution_count": 7,
   "metadata": {},
   "outputs": [
    {
     "name": "stdout",
     "output_type": "stream",
     "text": [
      "Random sample:\n",
      " [ 0.01964216  1.15915914 -0.54609957  0.80134675 -0.75540264  1.2493379\n",
      " -0.30597703  0.52858562  0.03971196 -0.63422025]\n"
     ]
    }
   ],
   "source": [
    "#random sampling\n",
    "\n",
    "import numpy as np\n",
    "sample = np.random.normal(loc=0, scale=1, size=10)\n",
    "print(\"Random sample:\\n\", sample)\n"
   ]
  },
  {
   "cell_type": "code",
   "execution_count": 8,
   "metadata": {},
   "outputs": [
    {
     "name": "stdout",
     "output_type": "stream",
     "text": [
      "Original data:\n",
      " [0.05270487 0.93653691 0.41856246 0.17964936 0.58123197 0.93823442\n",
      " 0.14087162 0.94844543 0.03723187 0.55664512]\n",
      "Mask:\n",
      " [False  True False False  True  True False  True False  True]\n",
      "Filtered data:\n",
      " [0.93653691 0.58123197 0.93823442 0.94844543 0.55664512]\n"
     ]
    }
   ],
   "source": [
    "#masking\n",
    "import numpy as np\n",
    "data = np.random.rand(10)\n",
    "mask = data > 0.5\n",
    "filtered_data = data[mask]\n",
    "\n",
    "print(\"Original data:\\n\", data)\n",
    "print(\"Mask:\\n\", mask)\n",
    "print(\"Filtered data:\\n\", filtered_data)\n"
   ]
  },
  {
   "cell_type": "code",
   "execution_count": 9,
   "metadata": {},
   "outputs": [
    {
     "name": "stdout",
     "output_type": "stream",
     "text": [
      "Solution of the system:\n",
      " [2. 3.]\n"
     ]
    }
   ],
   "source": [
    "import numpy as np\n",
    "A = np.array([[3, 1], [1, 2]])\n",
    "b = np.array([9, 8])\n",
    "x = np.linalg.solve(A, b)\n",
    "\n",
    "print(\"Solution of the system:\\n\", x)\n"
   ]
  },
  {
   "cell_type": "code",
   "execution_count": 10,
   "metadata": {},
   "outputs": [
    {
     "name": "stdout",
     "output_type": "stream",
     "text": [
      "Matrix A:\n",
      " [[0.97076108 0.53508594 0.52165012]\n",
      " [0.13218693 0.00949296 0.48068433]\n",
      " [0.53221368 0.50782574 0.09642394]]\n",
      "Determinant of A: -0.07362707707841125\n"
     ]
    }
   ],
   "source": [
    "import numpy as np\n",
    "A = np.random.rand(3, 3)\n",
    "det_A = np.linalg.det(A)\n",
    "\n",
    "print(\"Matrix A:\\n\", A)\n",
    "print(\"Determinant of A:\", det_A)\n"
   ]
  },
  {
   "cell_type": "code",
   "execution_count": null,
   "metadata": {},
   "outputs": [],
   "source": []
  }
 ],
 "metadata": {
  "kernelspec": {
   "display_name": "Python 3",
   "language": "python",
   "name": "python3"
  },
  "language_info": {
   "codemirror_mode": {
    "name": "ipython",
    "version": 3
   },
   "file_extension": ".py",
   "mimetype": "text/x-python",
   "name": "python",
   "nbconvert_exporter": "python",
   "pygments_lexer": "ipython3",
   "version": "3.11.4"
  }
 },
 "nbformat": 4,
 "nbformat_minor": 2
}
