{
 "cells": [
  {
   "cell_type": "code",
   "execution_count": 1,
   "metadata": {},
   "outputs": [
    {
     "name": "stdout",
     "output_type": "stream",
     "text": [
      "Invalid input. Please enter numeric values.\n",
      "The result of dividing 2.0 by 3.0 is 0.6666666666666666\n"
     ]
    }
   ],
   "source": [
    "def get_input():\n",
    "    while True:\n",
    "        try:\n",
    "            num1 = float(input(\"Enter the first number: \"))\n",
    "            num2 = float(input(\"Enter the second number: \"))\n",
    "            return num1, num2\n",
    "        except ValueError:\n",
    "            print(\"Invalid input. Please enter numeric values.\")\n",
    "\n",
    "def divide_numbers(num1, num2):\n",
    "    try:\n",
    "        result = num1 / num2\n",
    "    except ZeroDivisionError:\n",
    "        print(\"Error: Division by zero is not allowed.\")\n",
    "        return None\n",
    "    else:\n",
    "        return result\n",
    "\n",
    "\n",
    "num1, num2 = get_input()\n",
    "result = divide_numbers(num1, num2)\n",
    "if result is not None:\n",
    "    print(f\"The result of dividing {num1} by {num2} is {result}\")\n"
   ]
  },
  {
   "cell_type": "markdown",
   "metadata": {},
   "source": [
    "Buil-in function : "
   ]
  },
  {
   "cell_type": "code",
   "execution_count": 1,
   "metadata": {},
   "outputs": [
    {
     "name": "stdout",
     "output_type": "stream",
     "text": [
      "Creating a new instance of Person\n",
      "Alice (25)\n"
     ]
    }
   ],
   "source": [
    "class Person:\n",
    "    def __new__(cls, *args, **kwargs):\n",
    "        print(\"Creating a new instance of Person\")\n",
    "        return super(Person, cls).__new__(cls)\n",
    "\n",
    "    def __init__(self, name, age):\n",
    "        self.name = name\n",
    "        self.age = age\n",
    "\n",
    "    def __str__(self):\n",
    "        return f\"{self.name} ({self.age})\"\n",
    "\n",
    "person1 = Person(\"Alice\", 25)\n",
    "print(person1)"
   ]
  },
  {
   "cell_type": "code",
   "execution_count": 2,
   "metadata": {},
   "outputs": [
    {
     "name": "stdout",
     "output_type": "stream",
     "text": [
      "30\n"
     ]
    }
   ],
   "source": [
    "class MyClass:\n",
    "    def __init__(self, value):\n",
    "        self.data = value\n",
    "    def update(self, other):  \n",
    "        self.data += other.data \n",
    "\n",
    "obj1 = MyClass(10) \n",
    "obj2 = MyClass(20)  \n",
    "obj1.update(obj2)  \n",
    "print(obj1.data) "
   ]
  },
  {
   "cell_type": "markdown",
   "metadata": {},
   "source": [
    "Data Abstraction : "
   ]
  },
  {
   "cell_type": "code",
   "execution_count": 3,
   "metadata": {},
   "outputs": [
    {
     "name": "stdout",
     "output_type": "stream",
     "text": [
      "5000\n",
      "6000\n"
     ]
    }
   ],
   "source": [
    "class Employee:\n",
    "    def __init__(self, name, age, salary):\n",
    "        self.name = name\n",
    "        self.age = age\n",
    "        self.__salary = salary\n",
    "\n",
    "    def get_salary(self):\n",
    "        return self.__salary\n",
    "\n",
    "    def set_salary(self, new_salary):\n",
    "        if new_salary > 0:\n",
    "            self.__salary = new_salary\n",
    "        else:\n",
    "            print(\"Invalid salary\")\n",
    "\n",
    "employee = Employee(\"John\", 30, 5000)\n",
    "print(employee.get_salary())  # Output: 5000\n",
    "employee.set_salary(6000)\n",
    "print(employee.get_salary())  # Output: 6000\n"
   ]
  },
  {
   "cell_type": "markdown",
   "metadata": {},
   "source": [
    "Error Handling :"
   ]
  },
  {
   "cell_type": "code",
   "execution_count": 4,
   "metadata": {},
   "outputs": [
    {
     "name": "stderr",
     "output_type": "stream",
     "text": [
      "2024-06-18 21:56:29,155 - INFO - Attempting to divide 10 by 2\n",
      "2024-06-18 21:56:29,156 - INFO - Division successful\n",
      "2024-06-18 21:56:29,157 - INFO - Execution of divide function is complete\n",
      "2024-06-18 21:56:29,157 - INFO - Attempting to divide 10 by 0\n",
      "2024-06-18 21:56:29,158 - ERROR - Error: Cannot divide by zero\n",
      "2024-06-18 21:56:29,159 - INFO - Execution of divide function is complete\n",
      "2024-06-18 21:56:29,160 - ERROR - A custom error occurred: Cannot divide by zero\n",
      "2024-06-18 21:56:29,161 - INFO - End of main function\n"
     ]
    },
    {
     "name": "stdout",
     "output_type": "stream",
     "text": [
      "Result: 5.0\n"
     ]
    }
   ],
   "source": [
    "import logging\n",
    "\n",
    "# Configure logging\n",
    "logging.basicConfig(level=logging.INFO, format='%(asctime)s - %(levelname)s - %(message)s')\n",
    "\n",
    "class CustomError(Exception):\n",
    "    \"\"\"Custom exception class for demonstration purposes.\"\"\"\n",
    "    pass\n",
    "\n",
    "def divide(a, b):\n",
    "    try:\n",
    "        logging.info(\"Attempting to divide %s by %s\", a, b)\n",
    "        # Ensure inputs are numbers\n",
    "        if not isinstance(a, (int, float)) or not isinstance(b, (int, float)):\n",
    "            raise TypeError(\"Both arguments must be numbers\")\n",
    "        result = a / b\n",
    "    except ZeroDivisionError as e:\n",
    "        logging.error(\"Error: Cannot divide by zero\")\n",
    "        raise CustomError(\"Cannot divide by zero\") from e\n",
    "    except TypeError as e:\n",
    "        logging.error(\"Error: Invalid input types\")\n",
    "        raise CustomError(\"Invalid input types for division\") from e\n",
    "    except ValueError as e:\n",
    "        logging.error(\"Error: Invalid numeric value\")\n",
    "        raise CustomError(\"Invalid numeric value for division\") from e\n",
    "    else:\n",
    "        logging.info(\"Division successful\")\n",
    "        return result\n",
    "    finally:\n",
    "        logging.info(\"Execution of divide function is complete\")\n",
    "\n",
    "def main():\n",
    "    try:\n",
    "        result = divide(10, 2)\n",
    "        print(\"Result:\", result)\n",
    "        \n",
    "        result = divide(10, 0)\n",
    "        print(\"Result:\", result)\n",
    "        \n",
    "        result = divide(10, 'a')\n",
    "        print(\"Result:\", result)\n",
    "        \n",
    "        result = divide(\"ten\", 2)\n",
    "        print(\"Result:\", result)\n",
    "    except CustomError as e:\n",
    "        logging.error(\"A custom error occurred: %s\", e)\n",
    "    finally:\n",
    "        logging.info(\"End of main function\")\n",
    "\n",
    "if __name__ == \"__main__\":\n",
    "    main()\n"
   ]
  },
  {
   "cell_type": "code",
   "execution_count": null,
   "metadata": {},
   "outputs": [],
   "source": []
  }
 ],
 "metadata": {
  "kernelspec": {
   "display_name": "Python 3",
   "language": "python",
   "name": "python3"
  },
  "language_info": {
   "codemirror_mode": {
    "name": "ipython",
    "version": 3
   },
   "file_extension": ".py",
   "mimetype": "text/x-python",
   "name": "python",
   "nbconvert_exporter": "python",
   "pygments_lexer": "ipython3",
   "version": "3.11.4"
  }
 },
 "nbformat": 4,
 "nbformat_minor": 2
}
