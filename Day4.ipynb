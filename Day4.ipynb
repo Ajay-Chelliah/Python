{
 "cells": [
  {
   "cell_type": "markdown",
   "metadata": {},
   "source": [
    "LIST : "
   ]
  },
  {
   "cell_type": "code",
   "execution_count": 2,
   "metadata": {},
   "outputs": [
    {
     "name": "stdout",
     "output_type": "stream",
     "text": [
      "apple\n",
      "guava\n",
      "['apple', 'banana', 'cherry', 'guava', 'blueberry']\n",
      "['apple', 'cherry', 'guava', 'blueberry']\n",
      "['cherry', 'guava']\n",
      "apple\n",
      "cherry\n",
      "guava\n",
      "blueberry\n",
      "4\n",
      "['apple', 'blueberry', 'cherry', 'guava']\n"
     ]
    }
   ],
   "source": [
    "fruits = ['apple', 'banana', 'cherry', 'guava']\n",
    "\n",
    "print(fruits[0])\n",
    "print(fruits[-1])\n",
    "\n",
    "fruits.append('blueberry')\n",
    "print(fruits)\n",
    "\n",
    "fruits.remove('banana')\n",
    "print(fruits)\n",
    "\n",
    "print(fruits[1:3])\n",
    "\n",
    "for fruit in fruits:\n",
    "    print(fruit)\n",
    "\n",
    "print(len(fruits)) \n",
    "print(sorted(fruits))\n"
   ]
  },
  {
   "cell_type": "markdown",
   "metadata": {},
   "source": [
    "DICTIONARY : "
   ]
  },
  {
   "cell_type": "code",
   "execution_count": 3,
   "metadata": {},
   "outputs": [
    {
     "name": "stdout",
     "output_type": "stream",
     "text": [
      "Ajay\n",
      "19\n",
      "{'name': 'Ajay', 'age': 19, 'courses': ['Math', 'Computer'], 'phone': '9838474930'}\n",
      "{'name': 'Ajay', 'courses': ['Math', 'Computer'], 'phone': '9838474930'}\n",
      "name Ajay\n",
      "courses ['Math', 'Computer']\n",
      "phone 9838474930\n",
      "3\n",
      "dict_keys(['name', 'courses', 'phone'])\n",
      "dict_values(['Ajay', ['Math', 'Computer'], '9838474930'])\n"
     ]
    }
   ],
   "source": [
    "student = {\n",
    "    'name': 'Ajay',\n",
    "    'age': 19,\n",
    "    'courses': ['Math', 'Computer']\n",
    "}\n",
    "\n",
    "print(student['name'])\n",
    "print(student.get('age'))\n",
    "\n",
    "student['phone'] = '9838474930'\n",
    "print(student)\n",
    "\n",
    "del student['age']\n",
    "print(student)\n",
    "\n",
    "for key, value in student.items():\n",
    "    print(key, value)\n",
    "    \n",
    "print(len(student))  \n",
    "print(student.keys())  \n",
    "print(student.values()) \n"
   ]
  },
  {
   "cell_type": "markdown",
   "metadata": {},
   "source": [
    "TUPLE : "
   ]
  },
  {
   "cell_type": "code",
   "execution_count": 4,
   "metadata": {},
   "outputs": [
    {
     "name": "stdout",
     "output_type": "stream",
     "text": [
      "apple\n",
      "cherry\n",
      "apple\n",
      "banana\n",
      "cherry\n",
      "3\n",
      "1\n",
      "1\n"
     ]
    }
   ],
   "source": [
    "my_tuple = ('apple', 'banana', 'cherry')\n",
    "\n",
    "print(my_tuple[0])\n",
    "print(my_tuple[-1])\n",
    "\n",
    "for item in my_tuple:\n",
    "    print(item)\n",
    "\n",
    "\n",
    "print(len(my_tuple))  \n",
    "print(my_tuple.count('apple')) \n",
    "print(my_tuple.index('banana')) \n"
   ]
  },
  {
   "cell_type": "markdown",
   "metadata": {},
   "source": [
    "SET : "
   ]
  },
  {
   "cell_type": "code",
   "execution_count": 5,
   "metadata": {},
   "outputs": [
    {
     "name": "stdout",
     "output_type": "stream",
     "text": [
      "{'date', 'banana', 'apple', 'cherry'}\n",
      "{'date', 'apple', 'cherry'}\n",
      "True\n",
      "date\n",
      "apple\n",
      "cherry\n",
      "3\n",
      "['apple', 'cherry', 'date']\n",
      "{'date', 'cherry', 'blueberry', 'apple', 'watermelon'}\n",
      "{'date', 'cherry'}\n"
     ]
    }
   ],
   "source": [
    "my_set = {'apple', 'banana', 'cherry'}\n",
    "\n",
    "my_set.add('date')\n",
    "print(my_set)\n",
    "\n",
    "my_set.remove('banana')\n",
    "print(my_set)\n",
    "\n",
    "print('apple' in my_set)\n",
    "\n",
    "for item in my_set:\n",
    "    print(item)\n",
    "\n",
    "print(len(my_set))  \n",
    "print(sorted(my_set)) \n",
    "print(my_set.union({'blueberry', 'watermelon'}))  \n",
    "print(my_set.intersection({'cherry', 'date'})) \n"
   ]
  },
  {
   "cell_type": "code",
   "execution_count": null,
   "metadata": {},
   "outputs": [],
   "source": []
  }
 ],
 "metadata": {
  "kernelspec": {
   "display_name": "Python 3",
   "language": "python",
   "name": "python3"
  },
  "language_info": {
   "codemirror_mode": {
    "name": "ipython",
    "version": 3
   },
   "file_extension": ".py",
   "mimetype": "text/x-python",
   "name": "python",
   "nbconvert_exporter": "python",
   "pygments_lexer": "ipython3",
   "version": "3.11.4"
  }
 },
 "nbformat": 4,
 "nbformat_minor": 2
}
