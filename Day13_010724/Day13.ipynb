{
 "cells": [
  {
   "cell_type": "markdown",
   "metadata": {},
   "source": [
    "DATA FRAME CREATION"
   ]
  },
  {
   "cell_type": "code",
   "execution_count": 1,
   "metadata": {},
   "outputs": [
    {
     "name": "stdout",
     "output_type": "stream",
     "text": [
      "DataFrame created from a dictionary:\n",
      "      Name  Age         City\n",
      "0    Alice   24     New York\n",
      "1      Bob   27  Los Angeles\n",
      "2  Charlie   22      Chicago\n",
      "3    David   32      Houston\n"
     ]
    }
   ],
   "source": [
    "import pandas as pd\n",
    "data = {\n",
    "    'Name': ['Alice', 'Bob', 'Charlie', 'David'],\n",
    "    'Age': [24, 27, 22, 32],\n",
    "    'City': ['New York', 'Los Angeles', 'Chicago', 'Houston']\n",
    "}\n",
    "\n",
    "df = pd.DataFrame(data)\n",
    "print(\"DataFrame created from a dictionary:\")\n",
    "print(df)\n"
   ]
  },
  {
   "cell_type": "code",
   "execution_count": null,
   "metadata": {},
   "outputs": [],
   "source": [
    "df_csv = pd.read_csv('path/to/your/file.csv')\n",
    "print(\"DataFrame created from a CSV file:\")\n",
    "print(df_csv.head())\n"
   ]
  },
  {
   "cell_type": "markdown",
   "metadata": {},
   "source": [
    "DATA INSPECTION"
   ]
  },
  {
   "cell_type": "code",
   "execution_count": 2,
   "metadata": {},
   "outputs": [
    {
     "name": "stdout",
     "output_type": "stream",
     "text": [
      "First 5 rows of the DataFrame:\n",
      "      Name  Age         City\n",
      "0    Alice   24     New York\n",
      "1      Bob   27  Los Angeles\n",
      "2  Charlie   22      Chicago\n",
      "3    David   32      Houston\n",
      "\n",
      "Last 5 rows of the DataFrame:\n",
      "      Name  Age         City\n",
      "0    Alice   24     New York\n",
      "1      Bob   27  Los Angeles\n",
      "2  Charlie   22      Chicago\n",
      "3    David   32      Houston\n",
      "\n",
      "Shape of the DataFrame:\n",
      "(4, 3)\n",
      "\n",
      "Column names of the DataFrame:\n",
      "Index(['Name', 'Age', 'City'], dtype='object')\n",
      "\n",
      "Data types of the DataFrame:\n",
      "Name    object\n",
      "Age      int64\n",
      "City    object\n",
      "dtype: object\n",
      "\n",
      "Summary of the DataFrame:\n",
      "<class 'pandas.core.frame.DataFrame'>\n",
      "RangeIndex: 4 entries, 0 to 3\n",
      "Data columns (total 3 columns):\n",
      " #   Column  Non-Null Count  Dtype \n",
      "---  ------  --------------  ----- \n",
      " 0   Name    4 non-null      object\n",
      " 1   Age     4 non-null      int64 \n",
      " 2   City    4 non-null      object\n",
      "dtypes: int64(1), object(2)\n",
      "memory usage: 228.0+ bytes\n",
      "None\n"
     ]
    }
   ],
   "source": [
    "print(\"First 5 rows of the DataFrame:\")\n",
    "print(df.head())\n",
    "print(\"\\nLast 5 rows of the DataFrame:\")\n",
    "print(df.tail())\n",
    "print(\"\\nShape of the DataFrame:\")\n",
    "print(df.shape)\n",
    "print(\"\\nColumn names of the DataFrame:\")\n",
    "print(df.columns)\n",
    "print(\"\\nData types of the DataFrame:\")\n",
    "print(df.dtypes)\n",
    "print(\"\\nSummary of the DataFrame:\")\n",
    "print(df.info())\n"
   ]
  },
  {
   "cell_type": "markdown",
   "metadata": {},
   "source": [
    "DATA EXPLORATION :"
   ]
  },
  {
   "cell_type": "code",
   "execution_count": 3,
   "metadata": {},
   "outputs": [
    {
     "name": "stdout",
     "output_type": "stream",
     "text": [
      "\n",
      "Descriptive statistics of the DataFrame:\n",
      "             Age\n",
      "count   4.000000\n",
      "mean   26.250000\n",
      "std     4.349329\n",
      "min    22.000000\n",
      "25%    23.500000\n",
      "50%    25.500000\n",
      "75%    28.250000\n",
      "max    32.000000\n",
      "\n",
      "Missing values in the DataFrame:\n",
      "Name    0\n",
      "Age     0\n",
      "City    0\n",
      "dtype: int64\n",
      "\n",
      "Value counts for the 'City' column:\n",
      "City\n",
      "New York       1\n",
      "Los Angeles    1\n",
      "Chicago        1\n",
      "Houston        1\n",
      "Name: count, dtype: int64\n",
      "\n",
      "Mean age by city:\n",
      "City\n",
      "Chicago        22.0\n",
      "Houston        32.0\n",
      "Los Angeles    27.0\n",
      "New York       24.0\n",
      "Name: Age, dtype: float64\n",
      "\n",
      "Rows where age is greater than 25:\n",
      "    Name  Age         City\n",
      "1    Bob   27  Los Angeles\n",
      "3  David   32      Houston\n"
     ]
    }
   ],
   "source": [
    "print(\"\\nDescriptive statistics of the DataFrame:\")\n",
    "print(df.describe())\n",
    "\n",
    "# Checking for missing values \n",
    "print(\"\\nMissing values in the DataFrame:\")\n",
    "print(df.isnull().sum())\n",
    "\n",
    "# Counting unique values\n",
    "print(\"\\nValue counts for the 'City' column:\")\n",
    "print(df['City'].value_counts())\n",
    "\n",
    "# Grouping\n",
    "print(\"\\nMean age by city:\")\n",
    "print(df.groupby('City')['Age'].mean())\n",
    "\n",
    "# Filtering \n",
    "print(\"\\nRows where age is greater than 25:\")\n",
    "print(df[df['Age'] > 25])\n"
   ]
  },
  {
   "cell_type": "code",
   "execution_count": 4,
   "metadata": {},
   "outputs": [
    {
     "name": "stdout",
     "output_type": "stream",
     "text": [
      "Selecting the 'Name' column:\n",
      "0      Alice\n",
      "1        Bob\n",
      "2    Charlie\n",
      "3      David\n",
      "Name: Name, dtype: object\n",
      "Selecting the 'Name' and 'Age' columns:\n",
      "      Name  Age\n",
      "0    Alice   24\n",
      "1      Bob   27\n",
      "2  Charlie   22\n",
      "3    David   32\n",
      "Selecting the first row:\n",
      "Name       Alice\n",
      "Age           24\n",
      "City    New York\n",
      "Name: 0, dtype: object\n",
      "Selecting the first and third rows:\n",
      "      Name  Age      City\n",
      "0    Alice   24  New York\n",
      "2  Charlie   22   Chicago\n",
      "Selecting the row with label 'Alice':\n",
      "Age           24\n",
      "City    New York\n",
      "Name: Alice, dtype: object\n"
     ]
    }
   ],
   "source": [
    "print(\"Selecting the 'Name' column:\")\n",
    "print(df['Name'])\n",
    "print(\"Selecting the 'Name' and 'Age' columns:\")\n",
    "print(df[['Name', 'Age']])\n",
    "\n",
    "\n",
    "print(\"Selecting the first row:\")\n",
    "print(df.iloc[0])\n",
    "print(\"Selecting the first and third rows:\")\n",
    "print(df.iloc[[0, 2]])\n",
    "\n",
    "\n",
    "df.set_index('Name', inplace=True)\n",
    "print(\"Selecting the row with label 'Alice':\")\n",
    "print(df.loc['Alice'])\n",
    "df.reset_index(inplace=True)\n"
   ]
  },
  {
   "cell_type": "markdown",
   "metadata": {},
   "source": [
    "DATA MANIPULATION : "
   ]
  },
  {
   "cell_type": "code",
   "execution_count": 5,
   "metadata": {},
   "outputs": [
    {
     "name": "stdout",
     "output_type": "stream",
     "text": [
      "DataFrame after adding 'Salary' column:\n",
      "      Name  Age         City  Salary\n",
      "0    Alice   24     New York   70000\n",
      "1      Bob   27  Los Angeles   80000\n",
      "2  Charlie   22      Chicago   50000\n",
      "3    David   32      Houston  120000\n",
      "DataFrame after modifying 'Age' column:\n",
      "      Name  Age         City  Salary\n",
      "0    Alice   25     New York   70000\n",
      "1      Bob   28  Los Angeles   80000\n",
      "2  Charlie   23      Chicago   50000\n",
      "3    David   33      Houston  120000\n",
      "DataFrame after renaming columns:\n",
      "  Employee Name  Employee Age         City  Salary\n",
      "0         Alice            25     New York   70000\n",
      "1           Bob            28  Los Angeles   80000\n",
      "2       Charlie            23      Chicago   50000\n",
      "3         David            33      Houston  120000\n",
      "DataFrame after dropping 'Salary' column:\n",
      "  Employee Name  Employee Age         City\n",
      "0         Alice            25     New York\n",
      "1           Bob            28  Los Angeles\n",
      "2       Charlie            23      Chicago\n",
      "3         David            33      Houston\n",
      "DataFrame after applying a function to 'Employee Age' column:\n",
      "  Employee Name  Employee Age         City\n",
      "0         Alice            50     New York\n",
      "1           Bob            56  Los Angeles\n",
      "2       Charlie            46      Chicago\n",
      "3         David            66      Houston\n",
      "Merged DataFrame:\n",
      "  Employee Name  Employee Age         City     Name   Department\n",
      "0         Alice            50     New York    Alice           HR\n",
      "1           Bob            56  Los Angeles      Bob  Engineering\n",
      "2       Charlie            46      Chicago  Charlie    Marketing\n",
      "3         David            66      Houston    David      Finance\n"
     ]
    }
   ],
   "source": [
    "# Adding a new column \n",
    "df['Salary'] = [70000, 80000, 50000, 120000]\n",
    "print(\"DataFrame after adding 'Salary' column:\")\n",
    "print(df)\n",
    "\n",
    "# Modifying the column\n",
    "df['Age'] = df['Age'] + 1\n",
    "print(\"DataFrame after modifying 'Age' column:\")\n",
    "print(df)\n",
    "\n",
    "# Renaming columns\n",
    "df.rename(columns={'Name': 'Employee Name', 'Age': 'Employee Age'}, inplace=True)\n",
    "print(\"DataFrame after renaming columns:\")\n",
    "print(df)\n",
    "\n",
    "# Dropping the 'Salary' column\n",
    "df.drop(columns=['Salary'], inplace=True)\n",
    "print(\"DataFrame after dropping 'Salary' column:\")\n",
    "print(df)\n",
    "\n",
    "# Applying a function\n",
    "df['Employee Age'] = df['Employee Age'].apply(lambda x: x * 2)\n",
    "print(\"DataFrame after applying a function to 'Employee Age' column:\")\n",
    "print(df)\n",
    "\n",
    "# Creating another DataFrame\n",
    "data2 = {\n",
    "    'Name': ['Alice', 'Bob', 'Charlie', 'David'],\n",
    "    'Department': ['HR', 'Engineering', 'Marketing', 'Finance']\n",
    "}\n",
    "\n",
    "df2 = pd.DataFrame(data2)\n",
    "\n",
    "# Merging \n",
    "merged_df = pd.merge(df, df2, left_on='Employee Name', right_on='Name')\n",
    "print(\"Merged DataFrame:\")\n",
    "print(merged_df)\n"
   ]
  },
  {
   "cell_type": "code",
   "execution_count": null,
   "metadata": {},
   "outputs": [],
   "source": []
  }
 ],
 "metadata": {
  "kernelspec": {
   "display_name": "Python 3",
   "language": "python",
   "name": "python3"
  },
  "language_info": {
   "codemirror_mode": {
    "name": "ipython",
    "version": 3
   },
   "file_extension": ".py",
   "mimetype": "text/x-python",
   "name": "python",
   "nbconvert_exporter": "python",
   "pygments_lexer": "ipython3",
   "version": "3.11.4"
  }
 },
 "nbformat": 4,
 "nbformat_minor": 2
}
