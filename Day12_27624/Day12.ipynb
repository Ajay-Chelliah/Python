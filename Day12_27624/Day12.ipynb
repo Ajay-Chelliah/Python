{
 "cells": [
  {
   "cell_type": "code",
   "execution_count": 1,
   "metadata": {},
   "outputs": [
    {
     "name": "stdout",
     "output_type": "stream",
     "text": [
      "0    10\n",
      "1    20\n",
      "2    30\n",
      "3    40\n",
      "4    50\n",
      "dtype: int64\n",
      "a    10\n",
      "b    20\n",
      "c    30\n",
      "d    40\n",
      "e    50\n",
      "dtype: int64\n",
      "a    10\n",
      "b    20\n",
      "c    30\n",
      "d    40\n",
      "e    50\n",
      "dtype: int64\n"
     ]
    }
   ],
   "source": [
    "import pandas as pd\n",
    "data = [10, 20, 30, 40, 50]\n",
    "series = pd.Series(data)\n",
    "print(series)\n",
    "data = [10, 20, 30, 40, 50]\n",
    "index = ['a', 'b', 'c', 'd', 'e']\n",
    "series = pd.Series(data, index=index)\n",
    "print(series)\n",
    "data = {'a': 10, 'b': 20, 'c': 30, 'd': 40, 'e': 50}\n",
    "series = pd.Series(data)\n",
    "print(series)\n"
   ]
  },
  {
   "cell_type": "code",
   "execution_count": 2,
   "metadata": {},
   "outputs": [
    {
     "name": "stdout",
     "output_type": "stream",
     "text": [
      "10\n",
      "10\n",
      "15\n",
      "b    20\n",
      "c    30\n",
      "d    40\n",
      "dtype: int64\n"
     ]
    },
    {
     "name": "stderr",
     "output_type": "stream",
     "text": [
      "C:\\Users\\Lenovo\\AppData\\Local\\Temp\\ipykernel_14440\\4154055928.py:2: FutureWarning: Series.__getitem__ treating keys as positions is deprecated. In a future version, integer keys will always be treated as labels (consistent with DataFrame behavior). To access a value by position, use `ser.iloc[pos]`\n",
      "  print(series[0])\n"
     ]
    }
   ],
   "source": [
    "print(series['a'])\n",
    "print(series[0])\n",
    "series['a'] = 15\n",
    "print(series['a'])\n",
    "print(series['b':'d'])\n"
   ]
  },
  {
   "cell_type": "code",
   "execution_count": 3,
   "metadata": {},
   "outputs": [
    {
     "name": "stdout",
     "output_type": "stream",
     "text": [
      "0    11\n",
      "1    22\n",
      "2    33\n",
      "3    44\n",
      "4    55\n",
      "dtype: int64\n",
      "0    -9\n",
      "1   -18\n",
      "2   -27\n",
      "3   -36\n",
      "4   -45\n",
      "dtype: int64\n",
      "0     10\n",
      "1     40\n",
      "2     90\n",
      "3    160\n",
      "4    250\n",
      "dtype: int64\n",
      "0    0.1\n",
      "1    0.1\n",
      "2    0.1\n",
      "3    0.1\n",
      "4    0.1\n",
      "dtype: float64\n"
     ]
    }
   ],
   "source": [
    "series1 = pd.Series([1, 2, 3, 4, 5])\n",
    "series2 = pd.Series([10, 20, 30, 40, 50])\n",
    "print(series1 + series2)\n",
    "print(series1 - series2)\n",
    "print(series1 * series2)\n",
    "print(series1 / series2)\n"
   ]
  },
  {
   "cell_type": "code",
   "execution_count": 4,
   "metadata": {},
   "outputs": [
    {
     "name": "stdout",
     "output_type": "stream",
     "text": [
      "0    1.000000\n",
      "1    1.414214\n",
      "2    1.732051\n",
      "3    2.000000\n",
      "4    2.236068\n",
      "dtype: float64\n",
      "0     1\n",
      "1     4\n",
      "2     9\n",
      "3    16\n",
      "4    25\n",
      "dtype: int64\n"
     ]
    }
   ],
   "source": [
    "import numpy as np\n",
    "\n",
    "series = pd.Series([1, 2, 3, 4, 5])\n",
    "print(np.sqrt(series))  \n",
    "def square(x):\n",
    "    return x ** 2\n",
    "\n",
    "print(series.apply(square)) \n"
   ]
  },
  {
   "cell_type": "code",
   "execution_count": 5,
   "metadata": {},
   "outputs": [
    {
     "name": "stdout",
     "output_type": "stream",
     "text": [
      "0    False\n",
      "1    False\n",
      "2     True\n",
      "3    False\n",
      "4    False\n",
      "dtype: bool\n",
      "0    1.0\n",
      "1    2.0\n",
      "2    0.0\n",
      "3    4.0\n",
      "4    5.0\n",
      "dtype: float64\n",
      "0    1.0\n",
      "1    2.0\n",
      "3    4.0\n",
      "4    5.0\n",
      "dtype: float64\n"
     ]
    }
   ],
   "source": [
    "data = [1, 2, np.nan, 4, 5]\n",
    "series = pd.Series(data)\n",
    "print(series.isnull())\n",
    "print(series.fillna(0))\n",
    "print(series.dropna())\n"
   ]
  },
  {
   "cell_type": "code",
   "execution_count": 6,
   "metadata": {},
   "outputs": [
    {
     "name": "stdout",
     "output_type": "stream",
     "text": [
      "3.0\n",
      "1.5811388300841898\n",
      "1\n",
      "5\n",
      "15\n"
     ]
    }
   ],
   "source": [
    "# Statistical operations\n",
    "series = pd.Series([1, 2, 3, 4, 5])\n",
    "\n",
    "# Mean\n",
    "print(series.mean())\n",
    "\n",
    "# Standard deviation\n",
    "print(series.std())\n",
    "\n",
    "# Minimum value\n",
    "print(series.min())\n",
    "\n",
    "# Maximum value\n",
    "print(series.max())\n",
    "\n",
    "# Sum of all values\n",
    "print(series.sum())\n"
   ]
  },
  {
   "cell_type": "code",
   "execution_count": 10,
   "metadata": {},
   "outputs": [
    {
     "name": "stdout",
     "output_type": "stream",
     "text": [
      "a    1\n",
      "b    2\n",
      "c    3\n",
      "d    4\n",
      "e    5\n",
      "f    6\n",
      "dtype: int64\n"
     ]
    }
   ],
   "source": [
    "import pandas as pd\n",
    "series1 = pd.Series([1, 2, 3], index=['a', 'b', 'c'])\n",
    "series2 = pd.Series([4, 5, 6], index=['d', 'e', 'f'])\n",
    "combined = pd.concat([series1, series2])\n",
    "print(combined)\n"
   ]
  },
  {
   "cell_type": "code",
   "execution_count": null,
   "metadata": {},
   "outputs": [],
   "source": []
  }
 ],
 "metadata": {
  "kernelspec": {
   "display_name": "Python 3",
   "language": "python",
   "name": "python3"
  },
  "language_info": {
   "codemirror_mode": {
    "name": "ipython",
    "version": 3
   },
   "file_extension": ".py",
   "mimetype": "text/x-python",
   "name": "python",
   "nbconvert_exporter": "python",
   "pygments_lexer": "ipython3",
   "version": "3.11.4"
  }
 },
 "nbformat": 4,
 "nbformat_minor": 2
}
